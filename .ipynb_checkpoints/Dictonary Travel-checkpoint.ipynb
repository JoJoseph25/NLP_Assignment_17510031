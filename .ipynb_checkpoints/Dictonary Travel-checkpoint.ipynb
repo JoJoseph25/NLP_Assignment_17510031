{
 "cells": [
  {
   "cell_type": "code",
   "execution_count": 1,
   "metadata": {},
   "outputs": [],
   "source": [
    "def msplit(string, sep):\n",
    "    docs = [string]\n",
    "    for char in sep:\n",
    "        words = []\n",
    "        for substr in docs:\n",
    "            words.extend(substr.split(char))\n",
    "        docs = words\n",
    "    return docs"
   ]
  },
  {
   "cell_type": "code",
   "execution_count": 25,
   "metadata": {},
   "outputs": [
    {
     "name": "stdout",
     "output_type": "stream",
     "text": [
      "['A', 'A', 'named', 'a', 'in', 'the', 'English', 'and', 'most', 'commonly', 'ä', 'in', 'other', 'languages', 'Defn', 'The', 'first', 'letter', 'of', 'the', 'English', 'and', 'of', 'many', 'other', 'alphabets', 'The', 'capital', 'A', 'of']\n"
     ]
    }
   ],
   "source": [
    "file = open(\"dictonary.txt\", 'r')\n",
    "doc=msplit(file.read(),(\" \",\"\\n\",\",\",\"(\",\")\",\"-\",\"--\",\"\\\"\",\"[\",\"]\",\"!\",\"?\",\"_\",\".\",\";\",\":\",\"”\",\"“\"))\n",
    "file.close()\n",
    "words=list(filter(lambda x: x != \"\", doc))\n",
    "print(words[:30])"
   ]
  },
  {
   "cell_type": "code",
   "execution_count": 122,
   "metadata": {},
   "outputs": [],
   "source": [
    "def search(word, dictonary):\n",
    "    check=1\n",
    "    i=0\n",
    "    re_dict=dictonary[i:]\n",
    "    out=[]\n",
    "    while check==1:\n",
    "        re_dict=dictonary[i:]\n",
    "        if len(re_dict)<=4:\n",
    "            check=0\n",
    "        if word in re_dict:\n",
    "            ind=re_dict.index(word)\n",
    "            if word == re_dict[ind] and (not(re_dict[ind-1].isupper()) and not(re_dict[ind+1].isupper())):\n",
    "                out.append(i+ind)\n",
    "                i+=ind+1\n",
    "            else:\n",
    "                i+=ind+1\n",
    "        else:\n",
    "            check=0\n",
    "    out.append(i+ind)\n",
    "    return out\n",
    "    \n",
    "    "
   ]
  },
  {
   "cell_type": "code",
   "execution_count": 129,
   "metadata": {},
   "outputs": [],
   "source": [
    "def n_def(x, dictonary):\n",
    "    count=0\n",
    "    if len(x)==1:\n",
    "        count=0\n",
    "    else:\n",
    "        for i in range(len(x)-1):\n",
    "            re_dict=dictonary[x[i]:x[i+1]]\n",
    "            for word in re_dict:\n",
    "                if word.isdigit() or word= \"Defn\":\n",
    "                    count+=1\n",
    "                else:\n",
    "                    continue\n",
    "            \n",
    "    "
   ]
  },
  {
   "cell_type": "code",
   "execution_count": 130,
   "metadata": {},
   "outputs": [
    {
     "name": "stderr",
     "output_type": "stream",
     "text": [
      "IOPub data rate exceeded.\n",
      "The notebook server will temporarily stop sending output\n",
      "to the client in order to avoid crashing it.\n",
      "To change this limit, set the config variable\n",
      "`--NotebookApp.iopub_data_rate_limit`.\n",
      "\n",
      "Current values:\n",
      "NotebookApp.iopub_data_rate_limit=1000000.0 (bytes/sec)\n",
      "NotebookApp.rate_limit_window=3.0 (secs)\n",
      "\n"
     ]
    },
    {
     "name": "stdout",
     "output_type": "stream",
     "text": [
      "\n"
     ]
    }
   ],
   "source": [
    "x=search(\"FLY\",words)\n",
    "n_def(x, words)\n",
    "\n",
    "# matching = [s for s in words if \"FLY\" in s]\n"
   ]
  },
  {
   "cell_type": "code",
   "execution_count": 104,
   "metadata": {},
   "outputs": [
    {
     "name": "stdout",
     "output_type": "stream",
     "text": [
      "['Drayton', 'FLY', 'Fly', 'v', 'i', 'imp', 'Flew', 'p', 'p', 'Flown', 'p', 'pr', '&', 'vb', 'n', 'Flying', 'Etym', 'OE', 'fleen', 'fleen', 'fleyen']\n",
      "['sheets', 'FLY', 'Fly', 'v', 't', '1', 'To', 'cause', 'to', 'fly', 'or', 'to', 'float', 'in', 'the', 'air', 'as', 'a', 'bird', 'a', 'kite']\n",
      "['Slang', 'FLY', 'Fly', 'n', 'pl', 'Flies', 'Etym', 'OE', 'flie', 'flege', 'AS', 'flge', 'fleóge', 'fr', 'fleógan', 'to', 'fly', 'akin', 'to', 'D', 'vlieg']\n",
      "['ground', 'FLY', 'Fly', 'a', 'Defn', 'Knowing', 'wide', 'awake', 'fully', 'understanding', \"another's\", 'meaning', 'Slang', 'Dickens', 'FLY', 'AMANITA', 'FLY', 'FUNGUS', 'Fly', 'amanita', 'Fly']\n"
     ]
    }
   ],
   "source": [
    "for i in range(len(x)):\n",
    "    print(words[x[i]-1:x[i]+20])\n",
    "\n",
    "\n",
    "# print(matching)"
   ]
  },
  {
   "cell_type": "code",
   "execution_count": 81,
   "metadata": {},
   "outputs": [
    {
     "name": "stdout",
     "output_type": "stream",
     "text": [
      "False\n"
     ]
    }
   ],
   "source": [
    "x=\"Fly\".isupper()\n",
    "print(x)"
   ]
  },
  {
   "cell_type": "code",
   "execution_count": null,
   "metadata": {},
   "outputs": [],
   "source": []
  }
 ],
 "metadata": {
  "kernelspec": {
   "display_name": "Python 3",
   "language": "python",
   "name": "python3"
  },
  "language_info": {
   "codemirror_mode": {
    "name": "ipython",
    "version": 3
   },
   "file_extension": ".py",
   "mimetype": "text/x-python",
   "name": "python",
   "nbconvert_exporter": "python",
   "pygments_lexer": "ipython3",
   "version": "3.6.3"
  }
 },
 "nbformat": 4,
 "nbformat_minor": 2
}
